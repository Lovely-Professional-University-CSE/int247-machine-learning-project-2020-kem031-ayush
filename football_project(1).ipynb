{
 "cells": [
  {
   "cell_type": "code",
   "execution_count": 40,
   "metadata": {},
   "outputs": [],
   "source": [
    "import pandas as pd\n",
    "import numpy as np\n",
    "import matplotlib.pyplot as plt\n",
    "import seaborn as sns\n",
    "%matplotlib inline\n",
    "import pandas as pd\n",
    "import numpy as np\n",
    "%matplotlib inline\n",
    "import matplotlib.pyplot as plt\n",
    "plt.style.use('seaborn-whitegrid')\n",
    "from pandas import DataFrame, Series\n",
    "import seaborn as sns\n"
   ]
  },
  {
   "cell_type": "code",
   "execution_count": 16,
   "metadata": {},
   "outputs": [],
   "source": [
    "Team_data = pd.read_csv(\"team.csv\")"
   ]
  },
  {
   "cell_type": "code",
   "execution_count": 3,
   "metadata": {},
   "outputs": [],
   "source": [
    "Player_data = pd.read_csv(\"player.csv\")"
   ]
  },
  {
   "cell_type": "code",
   "execution_count": 4,
   "metadata": {},
   "outputs": [],
   "source": [
    "Play_data = pd.read_csv(\"play.csv\")"
   ]
  },
  {
   "cell_type": "code",
   "execution_count": 37,
   "metadata": {},
   "outputs": [],
   "source": [
    "Conference_data = pd.read_csv(\"conference.csv\")"
   ]
  },
  {
   "cell_type": "code",
   "execution_count": 6,
   "metadata": {},
   "outputs": [],
   "source": [
    "Game_data = pd.read_csv(\"game.csv\")"
   ]
  },
  {
   "cell_type": "code",
   "execution_count": 7,
   "metadata": {},
   "outputs": [],
   "source": [
    "Stadium_data = pd.read_csv(\"stadium.csv\")"
   ]
  },
  {
   "cell_type": "code",
   "execution_count": 8,
   "metadata": {},
   "outputs": [],
   "source": [
    "Kickoff_data = pd.read_csv(\"kickoff.csv\")"
   ]
  },
  {
   "cell_type": "code",
   "execution_count": 47,
   "metadata": {},
   "outputs": [
    {
     "data": {
      "text/html": [
       "<div>\n",
       "<style scoped>\n",
       "    .dataframe tbody tr th:only-of-type {\n",
       "        vertical-align: middle;\n",
       "    }\n",
       "\n",
       "    .dataframe tbody tr th {\n",
       "        vertical-align: top;\n",
       "    }\n",
       "\n",
       "    .dataframe thead th {\n",
       "        text-align: right;\n",
       "    }\n",
       "</style>\n",
       "<table border=\"1\" class=\"dataframe\">\n",
       "  <thead>\n",
       "    <tr style=\"text-align: right;\">\n",
       "      <th></th>\n",
       "      <th>Team Code</th>\n",
       "      <th>Name_x</th>\n",
       "      <th>Conference Code</th>\n",
       "      <th>Name_y</th>\n",
       "      <th>Subdivision</th>\n",
       "    </tr>\n",
       "  </thead>\n",
       "  <tbody>\n",
       "    <tr>\n",
       "      <th>0</th>\n",
       "      <td>5</td>\n",
       "      <td>Akron</td>\n",
       "      <td>875</td>\n",
       "      <td>Mid-American Conference</td>\n",
       "      <td>FBS</td>\n",
       "    </tr>\n",
       "  </tbody>\n",
       "</table>\n",
       "</div>"
      ],
      "text/plain": [
       "   Team Code Name_x  Conference Code                   Name_y Subdivision\n",
       "0          5  Akron              875  Mid-American Conference         FBS"
      ]
     },
     "execution_count": 47,
     "metadata": {},
     "output_type": "execute_result"
    }
   ],
   "source": [
    "Team_data.head(1)"
   ]
  },
  {
   "cell_type": "code",
   "execution_count": 48,
   "metadata": {},
   "outputs": [
    {
     "data": {
      "text/html": [
       "<div>\n",
       "<style scoped>\n",
       "    .dataframe tbody tr th:only-of-type {\n",
       "        vertical-align: middle;\n",
       "    }\n",
       "\n",
       "    .dataframe tbody tr th {\n",
       "        vertical-align: top;\n",
       "    }\n",
       "\n",
       "    .dataframe thead th {\n",
       "        text-align: right;\n",
       "    }\n",
       "</style>\n",
       "<table border=\"1\" class=\"dataframe\">\n",
       "  <thead>\n",
       "    <tr style=\"text-align: right;\">\n",
       "      <th></th>\n",
       "      <th>Player Code</th>\n",
       "      <th>Team Code</th>\n",
       "      <th>Last Name</th>\n",
       "      <th>First Name</th>\n",
       "      <th>Uniform Number</th>\n",
       "      <th>Class</th>\n",
       "      <th>Position</th>\n",
       "      <th>Height</th>\n",
       "      <th>Weight</th>\n",
       "      <th>Home Town</th>\n",
       "      <th>Home State</th>\n",
       "      <th>Home Country</th>\n",
       "      <th>Last School</th>\n",
       "    </tr>\n",
       "  </thead>\n",
       "  <tbody>\n",
       "    <tr>\n",
       "      <th>0</th>\n",
       "      <td>1022870</td>\n",
       "      <td>5</td>\n",
       "      <td>Alexander</td>\n",
       "      <td>Bill</td>\n",
       "      <td>21</td>\n",
       "      <td>SR</td>\n",
       "      <td>CB</td>\n",
       "      <td>68.0</td>\n",
       "      <td>172.0</td>\n",
       "      <td>Whigham</td>\n",
       "      <td>GA</td>\n",
       "      <td>US</td>\n",
       "      <td>George Washington Carver HS</td>\n",
       "    </tr>\n",
       "  </tbody>\n",
       "</table>\n",
       "</div>"
      ],
      "text/plain": [
       "   Player Code  Team Code  Last Name First Name Uniform Number Class Position  \\\n",
       "0      1022870          5  Alexander       Bill             21    SR       CB   \n",
       "\n",
       "   Height  Weight Home Town Home State Home Country  \\\n",
       "0    68.0   172.0   Whigham         GA           US   \n",
       "\n",
       "                   Last School  \n",
       "0  George Washington Carver HS  "
      ]
     },
     "execution_count": 48,
     "metadata": {},
     "output_type": "execute_result"
    }
   ],
   "source": [
    "Player_data.head(1)"
   ]
  },
  {
   "cell_type": "code",
   "execution_count": 49,
   "metadata": {},
   "outputs": [
    {
     "data": {
      "text/html": [
       "<div>\n",
       "<style scoped>\n",
       "    .dataframe tbody tr th:only-of-type {\n",
       "        vertical-align: middle;\n",
       "    }\n",
       "\n",
       "    .dataframe tbody tr th {\n",
       "        vertical-align: top;\n",
       "    }\n",
       "\n",
       "    .dataframe thead th {\n",
       "        text-align: right;\n",
       "    }\n",
       "</style>\n",
       "<table border=\"1\" class=\"dataframe\">\n",
       "  <thead>\n",
       "    <tr style=\"text-align: right;\">\n",
       "      <th></th>\n",
       "      <th>Game Code</th>\n",
       "      <th>Play Number</th>\n",
       "      <th>Period Number</th>\n",
       "      <th>Clock</th>\n",
       "      <th>Offense Team Code</th>\n",
       "      <th>Defense Team Code</th>\n",
       "      <th>Offense Points</th>\n",
       "      <th>Defense Points</th>\n",
       "      <th>Down</th>\n",
       "      <th>Distance</th>\n",
       "      <th>Spot</th>\n",
       "      <th>Play Type</th>\n",
       "      <th>Drive Number</th>\n",
       "      <th>Drive Play</th>\n",
       "    </tr>\n",
       "  </thead>\n",
       "  <tbody>\n",
       "    <tr>\n",
       "      <th>0</th>\n",
       "      <td>299004720130829</td>\n",
       "      <td>1</td>\n",
       "      <td>1</td>\n",
       "      <td>900.0</td>\n",
       "      <td>47</td>\n",
       "      <td>299</td>\n",
       "      <td>0</td>\n",
       "      <td>0</td>\n",
       "      <td>NaN</td>\n",
       "      <td>NaN</td>\n",
       "      <td>65</td>\n",
       "      <td>KICKOFF</td>\n",
       "      <td>NaN</td>\n",
       "      <td>NaN</td>\n",
       "    </tr>\n",
       "  </tbody>\n",
       "</table>\n",
       "</div>"
      ],
      "text/plain": [
       "         Game Code  Play Number  Period Number  Clock  Offense Team Code  \\\n",
       "0  299004720130829            1              1  900.0                 47   \n",
       "\n",
       "   Defense Team Code  Offense Points  Defense Points  Down  Distance  Spot  \\\n",
       "0                299               0               0   NaN       NaN    65   \n",
       "\n",
       "  Play Type  Drive Number  Drive Play  \n",
       "0   KICKOFF           NaN         NaN  "
      ]
     },
     "execution_count": 49,
     "metadata": {},
     "output_type": "execute_result"
    }
   ],
   "source": [
    "Play_data.head(1)"
   ]
  },
  {
   "cell_type": "code",
   "execution_count": 50,
   "metadata": {},
   "outputs": [
    {
     "data": {
      "text/html": [
       "<div>\n",
       "<style scoped>\n",
       "    .dataframe tbody tr th:only-of-type {\n",
       "        vertical-align: middle;\n",
       "    }\n",
       "\n",
       "    .dataframe tbody tr th {\n",
       "        vertical-align: top;\n",
       "    }\n",
       "\n",
       "    .dataframe thead th {\n",
       "        text-align: right;\n",
       "    }\n",
       "</style>\n",
       "<table border=\"1\" class=\"dataframe\">\n",
       "  <thead>\n",
       "    <tr style=\"text-align: right;\">\n",
       "      <th></th>\n",
       "      <th>Conference Code</th>\n",
       "      <th>Name</th>\n",
       "      <th>Subdivision</th>\n",
       "    </tr>\n",
       "  </thead>\n",
       "  <tbody>\n",
       "    <tr>\n",
       "      <th>0</th>\n",
       "      <td>823</td>\n",
       "      <td>American Athletic Conference</td>\n",
       "      <td>FBS</td>\n",
       "    </tr>\n",
       "  </tbody>\n",
       "</table>\n",
       "</div>"
      ],
      "text/plain": [
       "   Conference Code                          Name Subdivision\n",
       "0              823  American Athletic Conference         FBS"
      ]
     },
     "execution_count": 50,
     "metadata": {},
     "output_type": "execute_result"
    }
   ],
   "source": [
    "Conference_data.head(1)"
   ]
  },
  {
   "cell_type": "code",
   "execution_count": 51,
   "metadata": {},
   "outputs": [
    {
     "data": {
      "text/html": [
       "<div>\n",
       "<style scoped>\n",
       "    .dataframe tbody tr th:only-of-type {\n",
       "        vertical-align: middle;\n",
       "    }\n",
       "\n",
       "    .dataframe tbody tr th {\n",
       "        vertical-align: top;\n",
       "    }\n",
       "\n",
       "    .dataframe thead th {\n",
       "        text-align: right;\n",
       "    }\n",
       "</style>\n",
       "<table border=\"1\" class=\"dataframe\">\n",
       "  <thead>\n",
       "    <tr style=\"text-align: right;\">\n",
       "      <th></th>\n",
       "      <th>Game Code</th>\n",
       "      <th>Date</th>\n",
       "      <th>Visit Team Code</th>\n",
       "      <th>Home Team Code</th>\n",
       "      <th>Stadium Code</th>\n",
       "      <th>Site</th>\n",
       "    </tr>\n",
       "  </thead>\n",
       "  <tbody>\n",
       "    <tr>\n",
       "      <th>0</th>\n",
       "      <td>5012820130829</td>\n",
       "      <td>08/29/2013</td>\n",
       "      <td>5</td>\n",
       "      <td>128</td>\n",
       "      <td>146</td>\n",
       "      <td>TEAM</td>\n",
       "    </tr>\n",
       "  </tbody>\n",
       "</table>\n",
       "</div>"
      ],
      "text/plain": [
       "       Game Code        Date  Visit Team Code  Home Team Code  Stadium Code  \\\n",
       "0  5012820130829  08/29/2013                5             128           146   \n",
       "\n",
       "   Site  \n",
       "0  TEAM  "
      ]
     },
     "execution_count": 51,
     "metadata": {},
     "output_type": "execute_result"
    }
   ],
   "source": [
    "Game_data.head(1)"
   ]
  },
  {
   "cell_type": "code",
   "execution_count": 52,
   "metadata": {},
   "outputs": [
    {
     "data": {
      "text/html": [
       "<div>\n",
       "<style scoped>\n",
       "    .dataframe tbody tr th:only-of-type {\n",
       "        vertical-align: middle;\n",
       "    }\n",
       "\n",
       "    .dataframe tbody tr th {\n",
       "        vertical-align: top;\n",
       "    }\n",
       "\n",
       "    .dataframe thead th {\n",
       "        text-align: right;\n",
       "    }\n",
       "</style>\n",
       "<table border=\"1\" class=\"dataframe\">\n",
       "  <thead>\n",
       "    <tr style=\"text-align: right;\">\n",
       "      <th></th>\n",
       "      <th>Stadium Code</th>\n",
       "      <th>Name</th>\n",
       "      <th>City</th>\n",
       "      <th>State</th>\n",
       "      <th>Capacity</th>\n",
       "      <th>Surface</th>\n",
       "      <th>Year Opened</th>\n",
       "    </tr>\n",
       "  </thead>\n",
       "  <tbody>\n",
       "    <tr>\n",
       "      <th>0</th>\n",
       "      <td>1</td>\n",
       "      <td>Jordan-Hare Stadium</td>\n",
       "      <td>Auburn</td>\n",
       "      <td>AL</td>\n",
       "      <td>87451</td>\n",
       "      <td>Grass</td>\n",
       "      <td>1939</td>\n",
       "    </tr>\n",
       "  </tbody>\n",
       "</table>\n",
       "</div>"
      ],
      "text/plain": [
       "   Stadium Code                 Name    City State  Capacity Surface  \\\n",
       "0             1  Jordan-Hare Stadium  Auburn    AL     87451   Grass   \n",
       "\n",
       "   Year Opened  \n",
       "0         1939  "
      ]
     },
     "execution_count": 52,
     "metadata": {},
     "output_type": "execute_result"
    }
   ],
   "source": [
    "Stadium_data.head(1)"
   ]
  },
  {
   "cell_type": "code",
   "execution_count": 53,
   "metadata": {},
   "outputs": [
    {
     "data": {
      "text/html": [
       "<div>\n",
       "<style scoped>\n",
       "    .dataframe tbody tr th:only-of-type {\n",
       "        vertical-align: middle;\n",
       "    }\n",
       "\n",
       "    .dataframe tbody tr th {\n",
       "        vertical-align: top;\n",
       "    }\n",
       "\n",
       "    .dataframe thead th {\n",
       "        text-align: right;\n",
       "    }\n",
       "</style>\n",
       "<table border=\"1\" class=\"dataframe\">\n",
       "  <thead>\n",
       "    <tr style=\"text-align: right;\">\n",
       "      <th></th>\n",
       "      <th>Game Code</th>\n",
       "      <th>Play Number</th>\n",
       "      <th>Team Code</th>\n",
       "      <th>Player Code</th>\n",
       "      <th>Attempt</th>\n",
       "      <th>Yards</th>\n",
       "      <th>Fair Catch</th>\n",
       "      <th>Touchback</th>\n",
       "      <th>Downed</th>\n",
       "      <th>Out Of Bounds</th>\n",
       "      <th>Onside</th>\n",
       "      <th>Onside Success</th>\n",
       "    </tr>\n",
       "  </thead>\n",
       "  <tbody>\n",
       "    <tr>\n",
       "      <th>0</th>\n",
       "      <td>299004720130829</td>\n",
       "      <td>1</td>\n",
       "      <td>47</td>\n",
       "      <td>1031113</td>\n",
       "      <td>1</td>\n",
       "      <td>65</td>\n",
       "      <td>0</td>\n",
       "      <td>1</td>\n",
       "      <td>0</td>\n",
       "      <td>0</td>\n",
       "      <td>0</td>\n",
       "      <td>0</td>\n",
       "    </tr>\n",
       "  </tbody>\n",
       "</table>\n",
       "</div>"
      ],
      "text/plain": [
       "         Game Code  Play Number  Team Code  Player Code  Attempt  Yards  \\\n",
       "0  299004720130829            1         47      1031113        1     65   \n",
       "\n",
       "   Fair Catch  Touchback  Downed  Out Of Bounds  Onside  Onside Success  \n",
       "0           0          1       0              0       0               0  "
      ]
     },
     "execution_count": 53,
     "metadata": {},
     "output_type": "execute_result"
    }
   ],
   "source": [
    "Kickoff_data.head(1)"
   ]
  },
  {
   "cell_type": "code",
   "execution_count": 54,
   "metadata": {},
   "outputs": [
    {
     "data": {
      "text/plain": [
       "157"
      ]
     },
     "execution_count": 54,
     "metadata": {},
     "output_type": "execute_result"
    }
   ],
   "source": [
    "Stadium_data['Name'].nunique()"
   ]
  },
  {
   "cell_type": "code",
   "execution_count": 30,
   "metadata": {},
   "outputs": [
    {
     "data": {
      "text/plain": [
       "Home Country\n",
       "US    13546\n",
       "CA       46\n",
       "AS       20\n",
       "AU       19\n",
       "DE        8\n",
       "Name: Team Code, dtype: int64"
      ]
     },
     "execution_count": 30,
     "metadata": {},
     "output_type": "execute_result"
    }
   ],
   "source": [
    "Player_data.groupby('Home Country') ['Team Code'].count().sort_values(ascending = False)[:5]"
   ]
  },
  {
   "cell_type": "code",
   "execution_count": 43,
   "metadata": {},
   "outputs": [],
   "source": [
    "Team_data = pd.merge(Team_data, Conference_data, on = 'Conference Code')"
   ]
  },
  {
   "cell_type": "code",
   "execution_count": 55,
   "metadata": {},
   "outputs": [
    {
     "data": {
      "text/html": [
       "<div>\n",
       "<style scoped>\n",
       "    .dataframe tbody tr th:only-of-type {\n",
       "        vertical-align: middle;\n",
       "    }\n",
       "\n",
       "    .dataframe tbody tr th {\n",
       "        vertical-align: top;\n",
       "    }\n",
       "\n",
       "    .dataframe thead th {\n",
       "        text-align: right;\n",
       "    }\n",
       "</style>\n",
       "<table border=\"1\" class=\"dataframe\">\n",
       "  <thead>\n",
       "    <tr style=\"text-align: right;\">\n",
       "      <th></th>\n",
       "      <th>Team Code</th>\n",
       "      <th>Name_x</th>\n",
       "      <th>Conference Code</th>\n",
       "      <th>Name_y</th>\n",
       "      <th>Subdivision</th>\n",
       "    </tr>\n",
       "  </thead>\n",
       "  <tbody>\n",
       "    <tr>\n",
       "      <th>0</th>\n",
       "      <td>5</td>\n",
       "      <td>Akron</td>\n",
       "      <td>875</td>\n",
       "      <td>Mid-American Conference</td>\n",
       "      <td>FBS</td>\n",
       "    </tr>\n",
       "  </tbody>\n",
       "</table>\n",
       "</div>"
      ],
      "text/plain": [
       "   Team Code Name_x  Conference Code                   Name_y Subdivision\n",
       "0          5  Akron              875  Mid-American Conference         FBS"
      ]
     },
     "execution_count": 55,
     "metadata": {},
     "output_type": "execute_result"
    }
   ],
   "source": [
    "Team_data.head(1)"
   ]
  },
  {
   "cell_type": "code",
   "execution_count": 62,
   "metadata": {},
   "outputs": [
    {
     "data": {
      "text/plain": [
       "Text(0, 0.5, 'Conference')"
      ]
     },
     "execution_count": 62,
     "metadata": {},
     "output_type": "execute_result"
    },
    {
     "data": {
      "image/png": "[encoded data removed]",
      "text/plain": [
       "<Figure size 1440x1440 with 1 Axes>"
      ]
     },
     "metadata": {},
     "output_type": "display_data"
    }
   ],
   "source": [
    "x1 = plt.figure(figsize = (20,20))\n",
    "x1 = Team_data.groupby('Name_y')['Name_x'].count()[:20].plot(kind = 'barh')\n",
    "plt.xlabel('No of Teams')\n",
    "plt.ylabel('Conference')\n"
   ]
  },
  {
   "cell_type": "code",
   "execution_count": 64,
   "metadata": {},
   "outputs": [],
   "source": [
    "data= pd.merge(Player_data, Team_data, on='Team Code')\n"
   ]
  },
  {
   "cell_type": "code",
   "execution_count": 67,
   "metadata": {},
   "outputs": [
    {
     "data": {
      "text/plain": [
       "(21794, 17)"
      ]
     },
     "execution_count": 67,
     "metadata": {},
     "output_type": "execute_result"
    }
   ],
   "source": [
    "data.shape"
   ]
  },
  {
   "cell_type": "code",
   "execution_count": 68,
   "metadata": {},
   "outputs": [
    {
     "data": {
      "text/html": [
       "<div>\n",
       "<style scoped>\n",
       "    .dataframe tbody tr th:only-of-type {\n",
       "        vertical-align: middle;\n",
       "    }\n",
       "\n",
       "    .dataframe tbody tr th {\n",
       "        vertical-align: top;\n",
       "    }\n",
       "\n",
       "    .dataframe thead th {\n",
       "        text-align: right;\n",
       "    }\n",
       "</style>\n",
       "<table border=\"1\" class=\"dataframe\">\n",
       "  <thead>\n",
       "    <tr style=\"text-align: right;\">\n",
       "      <th></th>\n",
       "      <th>Player Code</th>\n",
       "      <th>Team Code</th>\n",
       "      <th>Last Name</th>\n",
       "      <th>First Name</th>\n",
       "      <th>Uniform Number</th>\n",
       "      <th>Class</th>\n",
       "      <th>Position</th>\n",
       "      <th>Height</th>\n",
       "      <th>Weight</th>\n",
       "      <th>Home Town</th>\n",
       "      <th>Home State</th>\n",
       "      <th>Home Country</th>\n",
       "      <th>Last School</th>\n",
       "      <th>Name_x</th>\n",
       "      <th>Conference Code</th>\n",
       "      <th>Name_y</th>\n",
       "      <th>Subdivision</th>\n",
       "    </tr>\n",
       "  </thead>\n",
       "  <tbody>\n",
       "    <tr>\n",
       "      <th>0</th>\n",
       "      <td>1022870</td>\n",
       "      <td>5</td>\n",
       "      <td>Alexander</td>\n",
       "      <td>Bill</td>\n",
       "      <td>21</td>\n",
       "      <td>SR</td>\n",
       "      <td>CB</td>\n",
       "      <td>68.0</td>\n",
       "      <td>172.0</td>\n",
       "      <td>Whigham</td>\n",
       "      <td>GA</td>\n",
       "      <td>US</td>\n",
       "      <td>George Washington Carver HS</td>\n",
       "      <td>Akron</td>\n",
       "      <td>875</td>\n",
       "      <td>Mid-American Conference</td>\n",
       "      <td>FBS</td>\n",
       "    </tr>\n",
       "    <tr>\n",
       "      <th>1</th>\n",
       "      <td>1022862</td>\n",
       "      <td>5</td>\n",
       "      <td>Alexander</td>\n",
       "      <td>Broderick</td>\n",
       "      <td>2</td>\n",
       "      <td>SR</td>\n",
       "      <td>FB</td>\n",
       "      <td>72.0</td>\n",
       "      <td>225.0</td>\n",
       "      <td>Covington</td>\n",
       "      <td>GA</td>\n",
       "      <td>US</td>\n",
       "      <td>Eastside HS</td>\n",
       "      <td>Akron</td>\n",
       "      <td>875</td>\n",
       "      <td>Mid-American Conference</td>\n",
       "      <td>FBS</td>\n",
       "    </tr>\n",
       "    <tr>\n",
       "      <th>2</th>\n",
       "      <td>1046129</td>\n",
       "      <td>5</td>\n",
       "      <td>Allen</td>\n",
       "      <td>Christian</td>\n",
       "      <td>49</td>\n",
       "      <td>FR</td>\n",
       "      <td>FB</td>\n",
       "      <td>72.0</td>\n",
       "      <td>249.0</td>\n",
       "      <td>Morgantown</td>\n",
       "      <td>WV</td>\n",
       "      <td>US</td>\n",
       "      <td>Morgantown HS</td>\n",
       "      <td>Akron</td>\n",
       "      <td>875</td>\n",
       "      <td>Mid-American Conference</td>\n",
       "      <td>FBS</td>\n",
       "    </tr>\n",
       "    <tr>\n",
       "      <th>3</th>\n",
       "      <td>1035204</td>\n",
       "      <td>5</td>\n",
       "      <td>Allen</td>\n",
       "      <td>Jeff</td>\n",
       "      <td>46</td>\n",
       "      <td>JR</td>\n",
       "      <td>DL</td>\n",
       "      <td>74.0</td>\n",
       "      <td>262.0</td>\n",
       "      <td>Morgantown</td>\n",
       "      <td>WV</td>\n",
       "      <td>US</td>\n",
       "      <td>Coastal Carolina/Morgantown HS</td>\n",
       "      <td>Akron</td>\n",
       "      <td>875</td>\n",
       "      <td>Mid-American Conference</td>\n",
       "      <td>FBS</td>\n",
       "    </tr>\n",
       "    <tr>\n",
       "      <th>4</th>\n",
       "      <td>1030820</td>\n",
       "      <td>5</td>\n",
       "      <td>Bailey</td>\n",
       "      <td>Austin</td>\n",
       "      <td>40</td>\n",
       "      <td>SR</td>\n",
       "      <td>DL</td>\n",
       "      <td>71.0</td>\n",
       "      <td>262.0</td>\n",
       "      <td>West Friendship</td>\n",
       "      <td>MD</td>\n",
       "      <td>US</td>\n",
       "      <td>DeMatha Catholic HS</td>\n",
       "      <td>Akron</td>\n",
       "      <td>875</td>\n",
       "      <td>Mid-American Conference</td>\n",
       "      <td>FBS</td>\n",
       "    </tr>\n",
       "  </tbody>\n",
       "</table>\n",
       "</div>"
      ],
      "text/plain": [
       "   Player Code  Team Code  Last Name First Name Uniform Number Class Position  \\\n",
       "0      1022870          5  Alexander       Bill             21    SR       CB   \n",
       "1      1022862          5  Alexander  Broderick              2    SR       FB   \n",
       "2      1046129          5      Allen  Christian             49    FR       FB   \n",
       "3      1035204          5      Allen       Jeff             46    JR       DL   \n",
       "4      1030820          5     Bailey     Austin             40    SR       DL   \n",
       "\n",
       "   Height  Weight        Home Town Home State Home Country  \\\n",
       "0    68.0   172.0          Whigham         GA           US   \n",
       "1    72.0   225.0        Covington         GA           US   \n",
       "2    72.0   249.0       Morgantown         WV           US   \n",
       "3    74.0   262.0       Morgantown         WV           US   \n",
       "4    71.0   262.0  West Friendship         MD           US   \n",
       "\n",
       "                      Last School Name_x  Conference Code  \\\n",
       "0     George Washington Carver HS  Akron              875   \n",
       "1                     Eastside HS  Akron              875   \n",
       "2                   Morgantown HS  Akron              875   \n",
       "3  Coastal Carolina/Morgantown HS  Akron              875   \n",
       "4             DeMatha Catholic HS  Akron              875   \n",
       "\n",
       "                    Name_y Subdivision  \n",
       "0  Mid-American Conference         FBS  \n",
       "1  Mid-American Conference         FBS  \n",
       "2  Mid-American Conference         FBS  \n",
       "3  Mid-American Conference         FBS  \n",
       "4  Mid-American Conference         FBS  "
      ]
     },
     "execution_count": 68,
     "metadata": {},
     "output_type": "execute_result"
    }
   ],
   "source": [
    "data.head(5)"
   ]
  },
  {
   "cell_type": "code",
   "execution_count": null,
   "metadata": {},
   "outputs": [],
   "source": []
  },
  {
   "cell_type": "code",
   "execution_count": null,
   "metadata": {},
   "outputs": [],
   "source": []
  }
 ],
 "metadata": {
  "kernelspec": {
   "display_name": "Python 3",
   "language": "python",
   "name": "python3"
  },
  "language_info": {
   "codemirror_mode": {
    "name": "ipython",
    "version": 3
   },
   "file_extension": ".py",
   "mimetype": "text/x-python",
   "name": "python",
   "nbconvert_exporter": "python",
   "pygments_lexer": "ipython3",
   "version": "3.7.6"
  }
 },
 "nbformat": 4,
 "nbformat_minor": 4
}
